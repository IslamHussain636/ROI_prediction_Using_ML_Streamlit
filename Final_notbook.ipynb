{
 "cells": [
  {
   "cell_type": "markdown",
   "metadata": {},
   "source": [
    "# Project Overview\n",
    "\n",
    "This project aims to create a cutting-edge machine learning model with the capacity to accurately forecast a company's Return on Investment (ROI). Armed with a comprehensive dataset featuring a diverse array of compelling features, this predictive model will serve as a valuable tool for guiding businesses in their investment decision-making processes. \n",
    "\n",
    "## Objectives\n",
    "\n",
    "- **Accurate ROI Forecasting**: The primary objective is to develop a model capable of accurately predicting a company's ROI, aiding in better financial planning and decision-making.\n",
    "\n",
    "- **Data-Driven Insights**: Leveraging a rich dataset, the model will provide illuminating insights into investment opportunities, potentially leading to substantial financial gains.\n",
    "\n",
    "## Benefits\n",
    "\n",
    "- **Strategic Clarity**: This project aims to empower discerning decision-makers with enhanced strategic clarity, enabling them to make informed and profitable investment choices.\n",
    "\n",
    "- **Wisdom and Insight**: By harnessing the power of machine learning, this project will offer a source of wisdom and insight, ushering businesses into the future of data-driven investment strategies.\n",
    "\n",
    "\n"
   ]
  },
  {
   "cell_type": "markdown",
   "metadata": {},
   "source": [
    "### Step 1: Libraries and Dataset Loading\n",
    "\n",
    "The initial step in every machine learning project is to import the required libraries and load the data for initial data processing. We have used pd.read_csv() command to load our dataset and head() function to display the initial rows of the dataset."
   ]
  },
  {
   "cell_type": "code",
   "execution_count": 1,
   "metadata": {},
   "outputs": [
    {
     "name": "stderr",
     "output_type": "stream",
     "text": [
      "C:\\Users\\hp\\AppData\\Local\\Temp\\ipykernel_4196\\2960174291.py:5: DtypeWarning: Columns (11,20,24,28,29,35) have mixed types. Specify dtype option on import or set low_memory=False.\n",
      "  data = pd.read_csv(file_path)\n"
     ]
    },
    {
     "data": {
      "text/html": [
       "<div>\n",
       "<style scoped>\n",
       "    .dataframe tbody tr th:only-of-type {\n",
       "        vertical-align: middle;\n",
       "    }\n",
       "\n",
       "    .dataframe tbody tr th {\n",
       "        vertical-align: top;\n",
       "    }\n",
       "\n",
       "    .dataframe thead th {\n",
       "        text-align: right;\n",
       "    }\n",
       "</style>\n",
       "<table border=\"1\" class=\"dataframe\">\n",
       "  <thead>\n",
       "    <tr style=\"text-align: right;\">\n",
       "      <th></th>\n",
       "      <th>Name</th>\n",
       "      <th>Title</th>\n",
       "      <th>Email</th>\n",
       "      <th>Domain</th>\n",
       "      <th>Location on Site</th>\n",
       "      <th>Tech Spend USD</th>\n",
       "      <th>Sales Revenue USD</th>\n",
       "      <th>Social</th>\n",
       "      <th>Employees</th>\n",
       "      <th>Company</th>\n",
       "      <th>...</th>\n",
       "      <th>City</th>\n",
       "      <th>State</th>\n",
       "      <th>Zip</th>\n",
       "      <th>Country</th>\n",
       "      <th>First Detected</th>\n",
       "      <th>Last Found</th>\n",
       "      <th>First Indexed</th>\n",
       "      <th>Last Indexed</th>\n",
       "      <th>Exclusion</th>\n",
       "      <th>GDPR</th>\n",
       "    </tr>\n",
       "  </thead>\n",
       "  <tbody>\n",
       "    <tr>\n",
       "      <th>0</th>\n",
       "      <td>Alexis Hue</td>\n",
       "      <td>Director</td>\n",
       "      <td>NaN</td>\n",
       "      <td>babbel.com</td>\n",
       "      <td>pt.business.babbel.com;de.business.babbel.com;...</td>\n",
       "      <td>10000</td>\n",
       "      <td>NaN</td>\n",
       "      <td>50000.0</td>\n",
       "      <td>100.0</td>\n",
       "      <td>Babbel</td>\n",
       "      <td>...</td>\n",
       "      <td>Palo Alto</td>\n",
       "      <td>CA</td>\n",
       "      <td>94304</td>\n",
       "      <td>US</td>\n",
       "      <td>43192</td>\n",
       "      <td>45268</td>\n",
       "      <td>37226</td>\n",
       "      <td>45273</td>\n",
       "      <td>-</td>\n",
       "      <td>California CCPA</td>\n",
       "    </tr>\n",
       "    <tr>\n",
       "      <th>1</th>\n",
       "      <td>Christian Hillemeyer</td>\n",
       "      <td>Director</td>\n",
       "      <td>NaN</td>\n",
       "      <td>babbel.com</td>\n",
       "      <td>pt.business.babbel.com;de.business.babbel.com;...</td>\n",
       "      <td>10000</td>\n",
       "      <td>NaN</td>\n",
       "      <td>50000.0</td>\n",
       "      <td>100.0</td>\n",
       "      <td>Babbel</td>\n",
       "      <td>...</td>\n",
       "      <td>Palo Alto</td>\n",
       "      <td>CA</td>\n",
       "      <td>94304</td>\n",
       "      <td>US</td>\n",
       "      <td>43192</td>\n",
       "      <td>45268</td>\n",
       "      <td>37226</td>\n",
       "      <td>45273</td>\n",
       "      <td>-</td>\n",
       "      <td>California CCPA</td>\n",
       "    </tr>\n",
       "    <tr>\n",
       "      <th>2</th>\n",
       "      <td>Miriam Plieninger</td>\n",
       "      <td>Director</td>\n",
       "      <td>NaN</td>\n",
       "      <td>babbel.com</td>\n",
       "      <td>pt.business.babbel.com;de.business.babbel.com;...</td>\n",
       "      <td>10000</td>\n",
       "      <td>NaN</td>\n",
       "      <td>50000.0</td>\n",
       "      <td>100.0</td>\n",
       "      <td>Babbel</td>\n",
       "      <td>...</td>\n",
       "      <td>Palo Alto</td>\n",
       "      <td>CA</td>\n",
       "      <td>94304</td>\n",
       "      <td>US</td>\n",
       "      <td>43192</td>\n",
       "      <td>45268</td>\n",
       "      <td>37226</td>\n",
       "      <td>45273</td>\n",
       "      <td>-</td>\n",
       "      <td>California CCPA</td>\n",
       "    </tr>\n",
       "    <tr>\n",
       "      <th>3</th>\n",
       "      <td>Stephan Seyfarth</td>\n",
       "      <td>Director</td>\n",
       "      <td>NaN</td>\n",
       "      <td>babbel.com</td>\n",
       "      <td>pt.business.babbel.com;de.business.babbel.com;...</td>\n",
       "      <td>10000</td>\n",
       "      <td>NaN</td>\n",
       "      <td>50000.0</td>\n",
       "      <td>100.0</td>\n",
       "      <td>Babbel</td>\n",
       "      <td>...</td>\n",
       "      <td>Palo Alto</td>\n",
       "      <td>CA</td>\n",
       "      <td>94304</td>\n",
       "      <td>US</td>\n",
       "      <td>43192</td>\n",
       "      <td>45268</td>\n",
       "      <td>37226</td>\n",
       "      <td>45273</td>\n",
       "      <td>-</td>\n",
       "      <td>California CCPA</td>\n",
       "    </tr>\n",
       "    <tr>\n",
       "      <th>4</th>\n",
       "      <td>Thomas Holl</td>\n",
       "      <td>President</td>\n",
       "      <td>NaN</td>\n",
       "      <td>babbel.com</td>\n",
       "      <td>pt.business.babbel.com;de.business.babbel.com;...</td>\n",
       "      <td>10000</td>\n",
       "      <td>NaN</td>\n",
       "      <td>50000.0</td>\n",
       "      <td>100.0</td>\n",
       "      <td>Babbel</td>\n",
       "      <td>...</td>\n",
       "      <td>Palo Alto</td>\n",
       "      <td>CA</td>\n",
       "      <td>94304</td>\n",
       "      <td>US</td>\n",
       "      <td>43192</td>\n",
       "      <td>45268</td>\n",
       "      <td>37226</td>\n",
       "      <td>45273</td>\n",
       "      <td>-</td>\n",
       "      <td>California CCPA</td>\n",
       "    </tr>\n",
       "  </tbody>\n",
       "</table>\n",
       "<p>5 rows × 41 columns</p>\n",
       "</div>"
      ],
      "text/plain": [
       "                   Name      Title Email      Domain  \\\n",
       "0            Alexis Hue   Director   NaN  babbel.com   \n",
       "1  Christian Hillemeyer   Director   NaN  babbel.com   \n",
       "2     Miriam Plieninger   Director   NaN  babbel.com   \n",
       "3      Stephan Seyfarth   Director   NaN  babbel.com   \n",
       "4           Thomas Holl  President   NaN  babbel.com   \n",
       "\n",
       "                                    Location on Site  Tech Spend USD  \\\n",
       "0  pt.business.babbel.com;de.business.babbel.com;...           10000   \n",
       "1  pt.business.babbel.com;de.business.babbel.com;...           10000   \n",
       "2  pt.business.babbel.com;de.business.babbel.com;...           10000   \n",
       "3  pt.business.babbel.com;de.business.babbel.com;...           10000   \n",
       "4  pt.business.babbel.com;de.business.babbel.com;...           10000   \n",
       "\n",
       "   Sales Revenue USD   Social  Employees Company  ...       City State    Zip  \\\n",
       "0                NaN  50000.0      100.0  Babbel  ...  Palo Alto    CA  94304   \n",
       "1                NaN  50000.0      100.0  Babbel  ...  Palo Alto    CA  94304   \n",
       "2                NaN  50000.0      100.0  Babbel  ...  Palo Alto    CA  94304   \n",
       "3                NaN  50000.0      100.0  Babbel  ...  Palo Alto    CA  94304   \n",
       "4                NaN  50000.0      100.0  Babbel  ...  Palo Alto    CA  94304   \n",
       "\n",
       "  Country First Detected Last Found First Indexed Last Indexed Exclusion  \\\n",
       "0      US          43192      45268         37226        45273         -   \n",
       "1      US          43192      45268         37226        45273         -   \n",
       "2      US          43192      45268         37226        45273         -   \n",
       "3      US          43192      45268         37226        45273         -   \n",
       "4      US          43192      45268         37226        45273         -   \n",
       "\n",
       "              GDPR  \n",
       "0  California CCPA  \n",
       "1  California CCPA  \n",
       "2  California CCPA  \n",
       "3  California CCPA  \n",
       "4  California CCPA  \n",
       "\n",
       "[5 rows x 41 columns]"
      ]
     },
     "execution_count": 1,
     "metadata": {},
     "output_type": "execute_result"
    }
   ],
   "source": [
    "import pandas as pd\n",
    "\n",
    "# Load the dataset\n",
    "file_path = r'C:\\Users\\hp\\OneDrive\\Desktop\\Faria/data_ml.csv'\n",
    "data = pd.read_csv(file_path)\n",
    "\n",
    "# Display the first few rows of the dataset\n",
    "data.head()\n",
    "\n"
   ]
  },
  {
   "cell_type": "markdown",
   "metadata": {},
   "source": [
    "# Step 2: Compute ROI and Dataset Analysis\n",
    "\n",
    "In this step, we will compute the Return on Investment (ROI) using the provided formula:\n",
    "\n",
    "ROI = ((Sales Revenue USD - Tech Spend USD) / Tech Spend USD) * 100\n",
    "\n",
    "Next, we will analyze the dataset further by using the `info()` function to gain insights into its structure and contents.\n"
   ]
  },
  {
   "cell_type": "code",
   "execution_count": 2,
   "metadata": {},
   "outputs": [
    {
     "name": "stdout",
     "output_type": "stream",
     "text": [
      "<class 'pandas.core.frame.DataFrame'>\n",
      "RangeIndex: 1048574 entries, 0 to 1048573\n",
      "Data columns (total 42 columns):\n",
      " #   Column             Non-Null Count    Dtype  \n",
      "---  ------             --------------    -----  \n",
      " 0   Name               611560 non-null   object \n",
      " 1   Title              722908 non-null   object \n",
      " 2   Email              517465 non-null   object \n",
      " 3   Domain             1048574 non-null  object \n",
      " 4   Location on Site   1048558 non-null  object \n",
      " 5   Tech Spend USD     1048574 non-null  int64  \n",
      " 6   Sales Revenue USD  245194 non-null   float64\n",
      " 7   Social             939182 non-null   float64\n",
      " 8   Employees          939182 non-null   float64\n",
      " 9   Company            827734 non-null   object \n",
      " 10  Vertical           903043 non-null   object \n",
      " 11  Tranco             1048574 non-null  object \n",
      " 12  Page Rank          1048574 non-null  object \n",
      " 13  Majestic           1048574 non-null  object \n",
      " 14  Umbrella           1048574 non-null  object \n",
      " 15  Telephones         953829 non-null   object \n",
      " 16  Emails             714714 non-null   object \n",
      " 17  Twitter            589341 non-null   object \n",
      " 18  Facebook           631005 non-null   object \n",
      " 19  LinkedIn           500180 non-null   object \n",
      " 20  Google             282 non-null      object \n",
      " 21  Pinterest          76897 non-null    object \n",
      " 22  GitHub             19372 non-null    object \n",
      " 23  Instagram          443289 non-null   object \n",
      " 24  Vk                 509 non-null      object \n",
      " 25  Vimeo              24684 non-null    object \n",
      " 26  Youtube            113807 non-null   object \n",
      " 27  TikTok             18586 non-null    object \n",
      " 28  Threads            198 non-null      object \n",
      " 29  X                  287 non-null      object \n",
      " 30  People             730344 non-null   object \n",
      " 31  City               748866 non-null   object \n",
      " 32  State              762838 non-null   object \n",
      " 33  Zip                761729 non-null   object \n",
      " 34  Country            821862 non-null   object \n",
      " 35  First Detected     1048574 non-null  object \n",
      " 36  Last Found         1048558 non-null  object \n",
      " 37  First Indexed      1048574 non-null  int64  \n",
      " 38  Last Indexed       1048574 non-null  int64  \n",
      " 39  Exclusion          1048574 non-null  object \n",
      " 40  GDPR               1048574 non-null  object \n",
      " 41  ROI                245194 non-null   float64\n",
      "dtypes: float64(4), int64(3), object(35)\n",
      "memory usage: 336.0+ MB\n"
     ]
    }
   ],
   "source": [
    "# Creating the ROI feature\n",
    "data['ROI'] = ((data['Sales Revenue USD'] - data['Tech Spend USD']) / data['Tech Spend USD']) * 100\n",
    "\n",
    "# Initial data analysis: checking for missing values and data types\n",
    "data_info = data.info()\n",
    "\n",
    "data_info \n"
   ]
  },
  {
   "cell_type": "markdown",
   "metadata": {},
   "source": [
    "|         | Columns            | Data Types |\n",
    "|---------|--------------------|------------|\n",
    "| Float   | 4                  |            |\n",
    "| Integer | 3                  |            |\n",
    "| Object  | 35                 |            |\n",
    "\n",
    "- **Float Columns (4)**: These columns contain floating-point (decimal) values, typically representing continuous or numerical data. They are used for features like 'Sales Revenue USD', 'Social', 'Employees', and 'ROI'.\n",
    "\n",
    "- **Integer Columns (3)**: These columns contain integer values, which are typically used for discrete numerical data. The integer columns are 'Tech Spend USD', 'First Indexed', and 'Last Indexed'.\n",
    "\n",
    "- **Object Columns (35)**: These columns contain textual or categorical data. Object columns are versatile and can represent a wide range of information, including names, email addresses, company names, locations, and various other categorical data.\n",
    "\n",
    "The dataset consists of a total of 42 columns, with varying data types as mentioned above. This information provides an initial understanding of the data's structure, which will be essential for further data exploration and analysis.\n"
   ]
  },
  {
   "cell_type": "markdown",
   "metadata": {},
   "source": [
    "# Step 3: Dealing with Null Values\n",
    "\n",
    "Addressing null values in the dataset is a fundamental data preprocessing step that sets the foundation for robust and reliable data analysis and modeling.\n",
    "We have Calculated the percentage of missing values for each column using the following python code. "
   ]
  },
  {
   "cell_type": "code",
   "execution_count": 3,
   "metadata": {},
   "outputs": [
    {
     "name": "stdout",
     "output_type": "stream",
     "text": [
      "Name                 41.676982\n",
      "Title                31.057989\n",
      "Email                50.650598\n",
      "Domain                0.000000\n",
      "Location on Site      0.001526\n",
      "Tech Spend USD        0.000000\n",
      "Sales Revenue USD    76.616433\n",
      "Social               10.432454\n",
      "Employees            10.432454\n",
      "Company              21.060984\n",
      "Vertical             13.878944\n",
      "Tranco                0.000000\n",
      "Page Rank             0.000000\n",
      "Majestic              0.000000\n",
      "Umbrella              0.000000\n",
      "Telephones            9.035605\n",
      "Emails               31.839431\n",
      "Twitter              43.795955\n",
      "Facebook             39.822559\n",
      "LinkedIn             52.299027\n",
      "Google               99.973106\n",
      "Pinterest            92.666517\n",
      "GitHub               98.152539\n",
      "Instagram            57.724586\n",
      "Vk                   99.951458\n",
      "Vimeo                97.645946\n",
      "Youtube              89.146498\n",
      "TikTok               98.227498\n",
      "Threads              99.981117\n",
      "X                    99.972629\n",
      "People               30.348836\n",
      "City                 28.582437\n",
      "State                27.249960\n",
      "Zip                  27.355723\n",
      "Country              21.620982\n",
      "First Detected        0.000000\n",
      "Last Found            0.001526\n",
      "First Indexed         0.000000\n",
      "Last Indexed          0.000000\n",
      "Exclusion             0.000000\n",
      "GDPR                  0.000000\n",
      "ROI                  76.616433\n",
      "dtype: float64\n"
     ]
    }
   ],
   "source": [
    "# Calculate the percentage of missing values for each column\n",
    "missing_percentage = (data.isnull().sum() / len(data)) * 100\n",
    "\n",
    "# Print the missing values in percentage\n",
    "print(missing_percentage)\n"
   ]
  },
  {
   "cell_type": "markdown",
   "metadata": {},
   "source": [
    "# Step 4: Detecting and droping the duplicates.\n",
    "In this section we have use the duplicated() function to detect the duplicates and we got 59303 duplicated values in our dataset, Then we the duplicated.drop() function to drop the duplicates from our dataset. "
   ]
  },
  {
   "cell_type": "code",
   "execution_count": 4,
   "metadata": {},
   "outputs": [
    {
     "name": "stdout",
     "output_type": "stream",
     "text": [
      "The DataFrame has 59303 duplicated rows.\n"
     ]
    }
   ],
   "source": [
    "# Count duplicated rows in the DataFrame\n",
    "duplicated_count = data.duplicated().sum()\n",
    "\n",
    "# Print the count of duplicated rows\n",
    "print(f\"The DataFrame has {duplicated_count} duplicated rows.\")\n"
   ]
  },
  {
   "cell_type": "code",
   "execution_count": 5,
   "metadata": {},
   "outputs": [],
   "source": [
    "data.drop_duplicates(inplace=True)\n"
   ]
  },
  {
   "cell_type": "code",
   "execution_count": 6,
   "metadata": {},
   "outputs": [
    {
     "name": "stdout",
     "output_type": "stream",
     "text": [
      "The DataFrame has 0 duplicated rows.\n"
     ]
    }
   ],
   "source": [
    "# Count duplicated rows in the DataFrame\n",
    "duplicated_count = data.duplicated().sum()\n",
    "\n",
    "# Print the count of duplicated rows\n",
    "print(f\"The DataFrame has {duplicated_count} duplicated rows.\")"
   ]
  },
  {
   "cell_type": "markdown",
   "metadata": {},
   "source": [
    "Here we can see now that there is no duplicates in our analysis:"
   ]
  },
  {
   "cell_type": "markdown",
   "metadata": {},
   "source": [
    "# Step 5: Strategy for null values removel:\n",
    "After runing the above command we see that there are several columns exhibit varying percentages of missing values. To address this, we have devised a data preprocessing strategy to ensure effective handling of the missing data. Our primary focus is on columns that are deemed relevant for analysis, and we will eliminate rows with missing values in the 'Sales Revenue USD' column, as it holds paramount significance in our analytical objectives. The selected relevant columns encompass 'Tech Spend USD,' 'Sales Revenue USD,' 'Social,' 'Employees,' 'Vertical,' 'City,' 'State,' 'Country,' and 'ROI.'\n",
    "\n",
    "To start, we create a fresh DataFrame labeled `data_relevant` by cherry-picking these pertinent columns and employing the `dropna()` function to exclude rows where 'Sales Revenue USD' values are missing. This meticulous approach guarantees that our analysis is founded on meaningful data points, while simultaneously retaining information from other columns that might have missing values.\n",
    "\n",
    "Subsequently, we address missing values within the remaining columns. For categorical columns such as 'City,' 'State,' and 'Country,' we opt for mode imputation. Missing values in these columns are replaced with the most frequently occurring value in their respective categories. Meanwhile, for the numerical column 'Social,' we employ median imputation, filling missing entries with the median value of the column. This imputation methodology preserves the representative nature of the data while ensuring balance.\n",
    "\n",
    "we are hoping that after the imputation process there will be no more missing values persist within the `data_relevant` DataFrame. With a pristine dataset in hand, we embark on basic exploratory data analysis (EDA) to unveil insights. This phase encompasses computing descriptive statistics for numerical columns, thereby unraveling the underlying data distributions. Additionally, we compile value counts for select categorical columns, such as 'Vertical' and 'Country,' to gain a better understanding of their compositions.\n",
    "\n"
   ]
  },
  {
   "cell_type": "code",
   "execution_count": 7,
   "metadata": {},
   "outputs": [
    {
     "data": {
      "text/plain": [
       "(    Tech Spend USD  Sales Revenue USD  Social  Employees  \\\n",
       " 10           10000          7096250.0  2000.0      100.0   \n",
       " 11           10000          7096250.0  2000.0      100.0   \n",
       " 12           10000          7096250.0  2000.0      100.0   \n",
       " 13           10000          7096250.0  2000.0      100.0   \n",
       " 14           10000          7096250.0  2000.0      100.0   \n",
       " \n",
       "                     Vertical       City State Country      ROI  \n",
       " 10  Technology And Computing  San Mateo    CA      US  70862.5  \n",
       " 11  Technology And Computing  San Mateo    CA      US  70862.5  \n",
       " 12  Technology And Computing  San Mateo    CA      US  70862.5  \n",
       " 13  Technology And Computing  San Mateo    CA      US  70862.5  \n",
       " 14  Technology And Computing  San Mateo    CA      US  70862.5  ,\n",
       " Tech Spend USD           0\n",
       " Sales Revenue USD        0\n",
       " Social               19786\n",
       " Employees            19786\n",
       " Vertical             37217\n",
       " City                 71339\n",
       " State                68215\n",
       " Country              53382\n",
       " ROI                      0\n",
       " dtype: int64)"
      ]
     },
     "execution_count": 7,
     "metadata": {},
     "output_type": "execute_result"
    }
   ],
   "source": [
    "# Selecting relevant columns and dropping rows with missing values in 'Sales Revenue USD'\n",
    "relevant_columns = ['Tech Spend USD', 'Sales Revenue USD', 'Social', 'Employees', 'Vertical', 'City', 'State', 'Country', 'ROI']\n",
    "data_relevant = data[relevant_columns].dropna(subset=['Sales Revenue USD'])\n",
    "\n",
    "# Checking for missing values in the selected relevant columns\n",
    "missing_values_relevant = data_relevant.isnull().sum()\n",
    "\n",
    "# Overview of the refined data\n",
    "data_relevant.head(), missing_values_relevant\n"
   ]
  },
  {
   "cell_type": "code",
   "execution_count": 8,
   "metadata": {},
   "outputs": [
    {
     "data": {
      "text/plain": [
       "(Tech Spend USD           0\n",
       " Sales Revenue USD        0\n",
       " Social                   0\n",
       " Employees            19786\n",
       " Vertical             37217\n",
       " City                     0\n",
       " State                    0\n",
       " Country                  0\n",
       " ROI                      0\n",
       " dtype: int64,\n",
       " Vertical\n",
       " Business And Industrial     81570\n",
       " Technology And Computing    34902\n",
       " Art And Entertainment       14795\n",
       " Education                    7095\n",
       " Finance                      6744\n",
       " Name: count, dtype: int64,\n",
       " Country\n",
       " US    161261\n",
       " GB     15429\n",
       " AU     10714\n",
       " CA      8329\n",
       " DE      5007\n",
       " Name: count, dtype: int64)"
      ]
     },
     "execution_count": 8,
     "metadata": {},
     "output_type": "execute_result"
    }
   ],
   "source": [
    "# Imputing missing values\n",
    "# For categorical columns ('City', 'State', 'Country'), we use mode imputation\n",
    "# For the numerical column ('Social'), we use median imputation\n",
    "city_mode = data_relevant['City'].mode()[0]\n",
    "state_mode = data_relevant['State'].mode()[0]\n",
    "country_mode = data_relevant['Country'].mode()[0]\n",
    "social_median = data_relevant['Social'].median()\n",
    "\n",
    "data_relevant['City'].fillna(city_mode, inplace=True)\n",
    "data_relevant['State'].fillna(state_mode, inplace=True)\n",
    "data_relevant['Country'].fillna(country_mode, inplace=True)\n",
    "data_relevant['Social'].fillna(social_median, inplace=True)\n",
    "\n",
    "# Confirming no more missing values\n",
    "missing_values_after_imputation = data_relevant.isnull().sum()\n",
    "\n",
    "\n",
    "# Value counts for some categorical columns\n",
    "vertical_counts = data_relevant['Vertical'].value_counts()\n",
    "country_counts = data_relevant['Country'].value_counts()\n",
    "\n",
    "missing_values_after_imputation,  vertical_counts.head(), country_counts.head()\n"
   ]
  },
  {
   "cell_type": "markdown",
   "metadata": {},
   "source": [
    "Even after applying the above startgey we still find some missing values so we will try impute that as well using median for numeric and mode for categorical. \n",
    "\n"
   ]
  },
  {
   "cell_type": "code",
   "execution_count": 9,
   "metadata": {},
   "outputs": [],
   "source": [
    "# Replace missing values in 'Employees' with the median\n",
    "median_employees = data_relevant['Employees'].median()\n",
    "data_relevant['Employees'].fillna(median_employees, inplace=True)\n",
    "\n",
    "# Replace missing values in 'Vertical' with the mode\n",
    "mode_vertical = data_relevant['Vertical'].mode()[0]\n",
    "data_relevant['Vertical'].fillna(mode_vertical, inplace=True)"
   ]
  },
  {
   "cell_type": "code",
   "execution_count": 10,
   "metadata": {},
   "outputs": [
    {
     "data": {
      "text/plain": [
       "Tech Spend USD       0\n",
       "Sales Revenue USD    0\n",
       "Social               0\n",
       "Employees            0\n",
       "Vertical             0\n",
       "City                 0\n",
       "State                0\n",
       "Country              0\n",
       "ROI                  0\n",
       "dtype: int64"
      ]
     },
     "execution_count": 10,
     "metadata": {},
     "output_type": "execute_result"
    }
   ],
   "source": [
    "data_relevant.isnull().sum()"
   ]
  },
  {
   "cell_type": "markdown",
   "metadata": {},
   "source": [
    "Now we can see that we don't have any null values in our reamaing dataset. \n",
    "\n",
    "\n",
    "To show some more insights from our dataset we drawn some graphical representation as shown in the figures below: "
   ]
  },
  {
   "cell_type": "code",
   "execution_count": 11,
   "metadata": {},
   "outputs": [
    {
     "name": "stderr",
     "output_type": "stream",
     "text": [
      "C:\\Users\\hp\\AppData\\Local\\Temp\\ipykernel_4196\\3686178088.py:11: FutureWarning: \n",
      "\n",
      "Passing `palette` without assigning `hue` is deprecated and will be removed in v0.14.0. Assign the `x` variable to `hue` and set `legend=False` for the same effect.\n",
      "\n",
      "  sns.barplot(y=vertical_values, x=vertical_names, palette='viridis')\n"
     ]
    },
    {
     "data": {
      "image/png": "[encoded data removed]",
      "text/plain": [
       "<Figure size 1000x600 with 1 Axes>"
      ]
     },
     "metadata": {},
     "output_type": "display_data"
    }
   ],
   "source": [
    "import matplotlib.pyplot as plt\n",
    "import seaborn as sns\n",
    "\n",
    "# Data\n",
    "vertical_counts = {'Business And Industrial': 89273, 'Technology And Computing': 37502, 'Art And Entertainment': 15597, 'Education': 7489, 'Finance': 7464}\n",
    "vertical_names = list(vertical_counts.keys())\n",
    "vertical_values = list(vertical_counts.values())\n",
    "\n",
    "# Create a bar plot for 'Vertical'\n",
    "plt.figure(figsize=(10, 6))\n",
    "sns.barplot(y=vertical_values, x=vertical_names, palette='viridis')\n",
    "plt.xlabel('Count')\n",
    "plt.ylabel('Vertical')\n",
    "plt.title('Count of Vertical Categories')\n",
    "plt.show()\n"
   ]
  },
  {
   "cell_type": "code",
   "execution_count": 12,
   "metadata": {},
   "outputs": [
    {
     "name": "stderr",
     "output_type": "stream",
     "text": [
      "C:\\Users\\hp\\AppData\\Local\\Temp\\ipykernel_4196\\3703576513.py:11: FutureWarning: \n",
      "\n",
      "Passing `palette` without assigning `hue` is deprecated and will be removed in v0.14.0. Assign the `x` variable to `hue` and set `legend=False` for the same effect.\n",
      "\n",
      "  sns.barplot(y=country_values, x=country_names, palette='coolwarm')\n"
     ]
    },
    {
     "data": {
      "image/png": "[encoded data removed]",
      "text/plain": [
       "<Figure size 1000x600 with 1 Axes>"
      ]
     },
     "metadata": {},
     "output_type": "display_data"
    }
   ],
   "source": [
    "import matplotlib.pyplot as plt\n",
    "import seaborn as sns\n",
    "\n",
    "# Data\n",
    "country_counts = {'US': 161740, 'GB': 26613, 'AU': 10735, 'CA': 8333, 'DE': 5891}\n",
    "country_names = list(country_counts.keys())\n",
    "country_values = list(country_counts.values())\n",
    "\n",
    "# Create a bar plot for 'Country'\n",
    "plt.figure(figsize=(10, 6))\n",
    "sns.barplot(y=country_values, x=country_names, palette='coolwarm')\n",
    "plt.xlabel('Count')\n",
    "plt.ylabel('Country')\n",
    "plt.title('Count of Countries')\n",
    "plt.show()\n"
   ]
  },
  {
   "cell_type": "markdown",
   "metadata": {},
   "source": [
    "\n",
    "### Step 6: Data Cleaning for Numerical Features\n",
    "\n",
    "In this step we perform data cleaning for a set of specified numerical features in the DataFrame, `data_relevant`. The objective is to ensure that these selected columns contain only valid numeric values and handle any non-numeric or missing values appropriately.\n",
    "\n",
    "1. **Selection of Numerical Features**:\n",
    "   - We start by defining a list, `numerical_features`, which includes the column names of the numerical features we want to work with. These features are crucial for numerical analysis.\n",
    "\n",
    "2. **Conversion to Numeric**:\n",
    "   - We loop through each column in the `numerical_features` list and attempt to convert its values to numeric using `pd.to_numeric()`. The `errors='coerce'` parameter is set to 'coerce,' which means that if any non-numeric values are encountered during the conversion, they will be converted to NaN (Not a Number). This ensures that all non-numeric data or invalid entries are appropriately handled without causing errors.\n",
    "\n",
    "3. **Handling NaN Values**:\n",
    "   - After attempting to convert the columns, we still might have rows where some of the numerical features have missing values (NaN). To address this, we use the `.dropna()` function to remove rows where any of the specified columns in `numerical_features` have NaN values. The `how='any'` parameter ensures that rows with any missing values in the specified columns are dropped.\n",
    "\n",
    "4. **Cleaned DataFrame**:\n",
    "   - The resulting DataFrame, `df_cleaned`, contains only rows with valid numeric values in the selected numerical features, and any rows with non-numeric or missing values have been removed.\n",
    "\n",
    "\n"
   ]
  },
  {
   "cell_type": "code",
   "execution_count": 13,
   "metadata": {},
   "outputs": [],
   "source": [
    "numerical_features = ['Tech Spend USD', 'Sales Revenue USD', 'Social', 'Employees']\n",
    "\n",
    "# Loop through each column and attempt to convert it to numeric\n",
    "for column in numerical_features:\n",
    "    data_relevant[column] = pd.to_numeric(data_relevant[column], errors='coerce')  # 'coerce' converts non-numeric values to NaN\n",
    "\n",
    "# Drop rows where any of the specified columns have NaN values\n",
    "df_cleaned = data_relevant.dropna(subset=numerical_features, how='any')"
   ]
  },
  {
   "cell_type": "code",
   "execution_count": 14,
   "metadata": {},
   "outputs": [
    {
     "data": {
      "text/html": [
       "<div>\n",
       "<style scoped>\n",
       "    .dataframe tbody tr th:only-of-type {\n",
       "        vertical-align: middle;\n",
       "    }\n",
       "\n",
       "    .dataframe tbody tr th {\n",
       "        vertical-align: top;\n",
       "    }\n",
       "\n",
       "    .dataframe thead th {\n",
       "        text-align: right;\n",
       "    }\n",
       "</style>\n",
       "<table border=\"1\" class=\"dataframe\">\n",
       "  <thead>\n",
       "    <tr style=\"text-align: right;\">\n",
       "      <th></th>\n",
       "      <th>Tech Spend USD</th>\n",
       "      <th>Sales Revenue USD</th>\n",
       "      <th>Social</th>\n",
       "      <th>Employees</th>\n",
       "      <th>Vertical</th>\n",
       "      <th>City</th>\n",
       "      <th>State</th>\n",
       "      <th>Country</th>\n",
       "      <th>ROI</th>\n",
       "    </tr>\n",
       "  </thead>\n",
       "  <tbody>\n",
       "    <tr>\n",
       "      <th>10</th>\n",
       "      <td>10000</td>\n",
       "      <td>7096250.0</td>\n",
       "      <td>2000.0</td>\n",
       "      <td>100.0</td>\n",
       "      <td>Technology And Computing</td>\n",
       "      <td>San Mateo</td>\n",
       "      <td>CA</td>\n",
       "      <td>US</td>\n",
       "      <td>70862.5</td>\n",
       "    </tr>\n",
       "    <tr>\n",
       "      <th>11</th>\n",
       "      <td>10000</td>\n",
       "      <td>7096250.0</td>\n",
       "      <td>2000.0</td>\n",
       "      <td>100.0</td>\n",
       "      <td>Technology And Computing</td>\n",
       "      <td>San Mateo</td>\n",
       "      <td>CA</td>\n",
       "      <td>US</td>\n",
       "      <td>70862.5</td>\n",
       "    </tr>\n",
       "    <tr>\n",
       "      <th>12</th>\n",
       "      <td>10000</td>\n",
       "      <td>7096250.0</td>\n",
       "      <td>2000.0</td>\n",
       "      <td>100.0</td>\n",
       "      <td>Technology And Computing</td>\n",
       "      <td>San Mateo</td>\n",
       "      <td>CA</td>\n",
       "      <td>US</td>\n",
       "      <td>70862.5</td>\n",
       "    </tr>\n",
       "    <tr>\n",
       "      <th>13</th>\n",
       "      <td>10000</td>\n",
       "      <td>7096250.0</td>\n",
       "      <td>2000.0</td>\n",
       "      <td>100.0</td>\n",
       "      <td>Technology And Computing</td>\n",
       "      <td>San Mateo</td>\n",
       "      <td>CA</td>\n",
       "      <td>US</td>\n",
       "      <td>70862.5</td>\n",
       "    </tr>\n",
       "    <tr>\n",
       "      <th>14</th>\n",
       "      <td>10000</td>\n",
       "      <td>7096250.0</td>\n",
       "      <td>2000.0</td>\n",
       "      <td>100.0</td>\n",
       "      <td>Technology And Computing</td>\n",
       "      <td>San Mateo</td>\n",
       "      <td>CA</td>\n",
       "      <td>US</td>\n",
       "      <td>70862.5</td>\n",
       "    </tr>\n",
       "  </tbody>\n",
       "</table>\n",
       "</div>"
      ],
      "text/plain": [
       "    Tech Spend USD  Sales Revenue USD  Social  Employees  \\\n",
       "10           10000          7096250.0  2000.0      100.0   \n",
       "11           10000          7096250.0  2000.0      100.0   \n",
       "12           10000          7096250.0  2000.0      100.0   \n",
       "13           10000          7096250.0  2000.0      100.0   \n",
       "14           10000          7096250.0  2000.0      100.0   \n",
       "\n",
       "                    Vertical       City State Country      ROI  \n",
       "10  Technology And Computing  San Mateo    CA      US  70862.5  \n",
       "11  Technology And Computing  San Mateo    CA      US  70862.5  \n",
       "12  Technology And Computing  San Mateo    CA      US  70862.5  \n",
       "13  Technology And Computing  San Mateo    CA      US  70862.5  \n",
       "14  Technology And Computing  San Mateo    CA      US  70862.5  "
      ]
     },
     "execution_count": 14,
     "metadata": {},
     "output_type": "execute_result"
    }
   ],
   "source": [
    "df_cleaned.head()"
   ]
  },
  {
   "cell_type": "code",
   "execution_count": 15,
   "metadata": {},
   "outputs": [
    {
     "data": {
      "text/plain": [
       "(230496, 9)"
      ]
     },
     "execution_count": 15,
     "metadata": {},
     "output_type": "execute_result"
    }
   ],
   "source": [
    "df_cleaned.shape"
   ]
  },
  {
   "cell_type": "code",
   "execution_count": null,
   "metadata": {},
   "outputs": [],
   "source": []
  },
  {
   "cell_type": "code",
   "execution_count": 16,
   "metadata": {},
   "outputs": [],
   "source": [
    "import pandas as pd\n",
    "import matplotlib.pyplot as plt\n",
    "\n",
    "# Load your dataset\n",
    "data = df_cleaned\n",
    "\n",
    "# Selecting numerical columns\n",
    "numerical_columns = data.select_dtypes(include=['int64', 'float64']).columns\n",
    "\n",
    "# Calculating the range of each numerical column\n",
    "min_values = data[numerical_columns].min()\n",
    "max_values = data[numerical_columns].max()\n",
    "\n",
    "\n"
   ]
  },
  {
   "cell_type": "code",
   "execution_count": 17,
   "metadata": {},
   "outputs": [
    {
     "data": {
      "text/plain": [
       "Tech Spend USD       1000.0\n",
       "Sales Revenue USD       8.0\n",
       "Social                  0.0\n",
       "Employees               0.0\n",
       "ROI                   -99.6\n",
       "dtype: float64"
      ]
     },
     "execution_count": 17,
     "metadata": {},
     "output_type": "execute_result"
    }
   ],
   "source": [
    "min_values"
   ]
  },
  {
   "cell_type": "code",
   "execution_count": 18,
   "metadata": {},
   "outputs": [
    {
     "data": {
      "text/plain": [
       "Tech Spend USD       1.000000e+04\n",
       "Sales Revenue USD    5.094075e+10\n",
       "Social               1.000000e+07\n",
       "Employees            1.000000e+05\n",
       "ROI                  5.094074e+08\n",
       "dtype: float64"
      ]
     },
     "execution_count": 18,
     "metadata": {},
     "output_type": "execute_result"
    }
   ],
   "source": [
    "max_values"
   ]
  },
  {
   "cell_type": "markdown",
   "metadata": {},
   "source": [
    "# Step 7: Outlier detection\n",
    "We have used boxplot to detect outlier visually and we can see it in the graphs below."
   ]
  },
  {
   "cell_type": "code",
   "execution_count": 19,
   "metadata": {},
   "outputs": [
    {
     "data": {
      "image/png": "[encoded data removed]",
      "text/plain": [
       "<Figure size 1000x600 with 1 Axes>"
      ]
     },
     "metadata": {},
     "output_type": "display_data"
    }
   ],
   "source": [
    "import seaborn as sns\n",
    "import matplotlib.pyplot as plt\n",
    "\n",
    "# Assuming df_sampled is your DataFrame\n",
    "columns_to_plot = [\"Tech Spend USD\", \"Sales Revenue USD\", \"Social\", \"Employees\"]\n",
    "\n",
    "plt.figure(figsize=(10, 6))  # Set the overall figure size\n",
    "sns.boxplot(data=df_cleaned[columns_to_plot], orient=\"v\")  # Create vertical boxplots for all specified columns\n",
    "plt.title('Boxplots of Multiple Columns')  # Set the title\n",
    "plt.xticks(rotation=45)  # Rotate x-axis labels for better visibility\n",
    "plt.show()  # Show the boxplots\n"
   ]
  },
  {
   "cell_type": "code",
   "execution_count": 20,
   "metadata": {},
   "outputs": [],
   "source": [
    "# Calculate the 5th and 95th percentiles for 'Sales Revenue USD'\n",
    "lower_bound = data['Sales Revenue USD'].quantile(0.05)\n",
    "upper_bound = data['Sales Revenue USD'].quantile(0.95)\n",
    "\n",
    "# Filter the DataFrame to keep data within the desired range\n",
    "data_filtered = data[(data['Sales Revenue USD'] >= lower_bound) & (data['Sales Revenue USD'] <= upper_bound)]\n"
   ]
  },
  {
   "cell_type": "code",
   "execution_count": 21,
   "metadata": {},
   "outputs": [
    {
     "data": {
      "image/png": "[encoded data removed]",
      "text/plain": [
       "<Figure size 1000x600 with 1 Axes>"
      ]
     },
     "metadata": {},
     "output_type": "display_data"
    }
   ],
   "source": [
    "import seaborn as sns\n",
    "import matplotlib.pyplot as plt\n",
    "\n",
    "# Create a boxplot for 'Sales Revenue USD' after filtering the data\n",
    "plt.figure(figsize=(10, 6))\n",
    "sns.boxplot(data=data_filtered, y='Sales Revenue USD')\n",
    "plt.title('Boxplot of Sales Revenue USD (Filtered)')\n",
    "plt.ylabel('Sales Revenue USD')\n",
    "plt.show()\n"
   ]
  },
  {
   "cell_type": "code",
   "execution_count": 22,
   "metadata": {},
   "outputs": [],
   "source": [
    "#as the dataset is too large and need high computation power so we're taking a 20% of the data\n",
    "#df_cleaned = df_cleaned.sample(frac=0.2, random_state=42)  \n"
   ]
  },
  {
   "cell_type": "markdown",
   "metadata": {},
   "source": [
    "### Step 8: Feature Selection and Feature Transformation\n",
    "\n",
    "In this phase of the machine learning project, we focus on preparing the data for modeling by selecting the features that will serve as independent variables (features) and the dependent variable (target variable). Additionally, we perform essential data transformations to ensure the data is in an appropriate format for machine learning algorithms.\n",
    "\n",
    "1. **Feature Selection**:\n",
    "   - Feature selection involves choosing a subset of the available features that are most relevant and influential for making predictions. This step helps reduce the dimensionality of the dataset and improves model efficiency.\n",
    "   - The selected features become the independent variables (features) used to train the machine learning model, while the target variable (dependent variable) is what we aim to predict.\n",
    "\n",
    "2. **Feature Transformation**:\n",
    "   - Feature transformation includes various data preprocessing steps to prepare the data for modeling. This typically includes:\n",
    "     - **Scaling**: Standardizing or normalizing numerical features to ensure they have similar scales. We have used StandardScaler here.\n",
    "     - **One-Hot Encoding**: Converting categorical variables into a binary format (0 or 1) for machine learning algorithms to handle them correctly.\n",
    "\n",
    "\n",
    "3. **Data Splitting**:\n",
    "   - After feature selection and transformation, it's common to split the data into training and testing sets. The training set is used to train the machine learning model, while the testing set is used to evaluate its performance.\n",
    "\n"
   ]
  },
  {
   "cell_type": "code",
   "execution_count": 23,
   "metadata": {},
   "outputs": [],
   "source": [
    "from sklearn.preprocessing import StandardScaler, OneHotEncoder\n",
    "from sklearn.model_selection import train_test_split\n",
    "from sklearn.compose import ColumnTransformer\n",
    "from sklearn.pipeline import Pipeline\n",
    "\n",
    "# Define the names of numerical and categorical features\n",
    "numerical_features = ['Tech Spend USD', 'Sales Revenue USD', 'Social', 'Employees']\n",
    "categorical_features = ['Vertical', 'City', 'State', 'Country']\n",
    "\n",
    "\n",
    "# Create a column transformer\n",
    "preprocessor = ColumnTransformer(\n",
    "    transformers=[\n",
    "        ('num', StandardScaler(), numerical_features),\n",
    "        ('cat', OneHotEncoder(handle_unknown='ignore'), categorical_features)\n",
    "    ])\n",
    "\n",
    "# Assuming df_cleaned is your DataFrame and 'ROI' is the target variable\n",
    "X = df_cleaned.drop('ROI', axis=1)\n",
    "y = df_cleaned['ROI']"
   ]
  },
  {
   "cell_type": "markdown",
   "metadata": {},
   "source": [
    "## Step 9:  Machine Learning Model Setup and Evaluation\n",
    " \n",
    "1. **Model Evaluation Function (`evaluate_model`):**\n",
    "   - This function is defined to train each of the three machine learning models (Random Forest, Gradient Boosting, and SVM) on the training data.\n",
    "   - The function then uses the testing data to assess the performance of these models by calculating three metrics:\n",
    "     - Mean Squared Error (MSE): This tells us how close our predictions are to the actual 'ROI' values. Smaller MSE values indicate better predictions.\n",
    "     - R-squared (R²): This is another measure of prediction accuracy, ranging from 0 to 1, where 1 signifies perfect predictions.\n",
    "     - Mean Absolute Error (MAE): This measures how far off our predictions are from the actual values. Smaller MAE values are better.\n",
    "\n",
    "2. **Model Saving:**\n",
    "   - In addition to evaluating the models, the code also saves each trained model to a specified directory.\n",
    "   - The 'joblib' library is used for saving the models. This enables us to reuse these models later without the need to retrain them.\n",
    "\n",
    "\n",
    "\n"
   ]
  },
  {
   "cell_type": "code",
   "execution_count": 24,
   "metadata": {},
   "outputs": [],
   "source": [
    "import matplotlib.pyplot as plt\n",
    "from sklearn.ensemble import RandomForestRegressor, GradientBoostingRegressor\n",
    "from sklearn.metrics import mean_squared_error, r2_score, mean_absolute_error\n",
    "from sklearn.model_selection import train_test_split\n",
    "from sklearn.pipeline import Pipeline\n",
    "from sklearn.svm import SVR\n",
    "from joblib import dump\n",
    "import os\n",
    "\n",
    "# Assuming 'preprocessor', 'X', and 'y' are defined elsewhere in your code\n",
    "\n",
    "# Create pipelines for different models\n",
    "rf_pipeline = Pipeline(steps=[\n",
    "    ('preprocessor', preprocessor),\n",
    "    ('regressor', RandomForestRegressor(random_state=42))\n",
    "])\n",
    "\n",
    "gb_pipeline = Pipeline(steps=[\n",
    "    ('preprocessor', preprocessor),\n",
    "    ('regressor', GradientBoostingRegressor(random_state=42))\n",
    "])\n",
    "\n",
    "svm_pipeline = Pipeline(steps=[\n",
    "    ('preprocessor', preprocessor),\n",
    "    ('regressor', SVR())\n",
    "])\n",
    "\n",
    "# Split the data into training and test sets\n",
    "X_train, X_test, y_train, y_test = train_test_split(X, y, test_size=0.2, random_state=42)\n",
    "\n",
    "# Function to fit model, make predictions, save the model, print metrics, and plot graphs\n",
    "def evaluate_model(pipeline, model_name, save_path):\n",
    "    pipeline.fit(X_train, y_train)\n",
    "    train_predictions = pipeline.predict(X_train)\n",
    "    test_predictions = pipeline.predict(X_test)\n",
    "\n",
    "    # Calculate metrics\n",
    "    train_mse = mean_squared_error(y_train, train_predictions)\n",
    "    test_mse = mean_squared_error(y_test, test_predictions)\n",
    "    train_r2 = r2_score(y_train, train_predictions)\n",
    "    test_r2 = r2_score(y_test, test_predictions)\n",
    "    train_mae = mean_absolute_error(y_train, train_predictions)\n",
    "    test_mae = mean_absolute_error(y_test, test_predictions)\n",
    "\n",
    "    # Saving the trained model\n",
    "    model_filename = os.path.join(save_path, model_name + '.joblib')\n",
    "    dump(pipeline, model_filename)\n",
    "    print(f\"Saved trained model to {model_filename}\")\n",
    "\n",
    "    # Printing the performance metrics\n",
    "    print(f\"{model_name} Performance:\")\n",
    "    print(f\"Training: MSE = {train_mse}, R2 = {train_r2}, MAE = {train_mae}\")\n",
    "    print(f\"Testing: MSE = {test_mse}, R2 = {test_r2}, MAE = {test_mae}\\n\")\n",
    "\n",
    "    # Plotting\n",
    "    plt.figure(figsize=(12, 6))\n",
    "    plt.subplot(1, 2, 1)\n",
    "    plt.scatter(y_train, train_predictions, alpha=0.5)\n",
    "    plt.title(f\"{model_name} - Training Data\")\n",
    "    plt.xlabel(\"True Values\")\n",
    "    plt.ylabel(\"Predictions\")\n",
    "\n",
    "    plt.subplot(1, 2, 2)\n",
    "    plt.scatter(y_test, test_predictions, alpha=0.5)\n",
    "    plt.title(f\"{model_name} - Testing Data\")\n",
    "    plt.xlabel(\"True Values\")\n",
    "    plt.ylabel(\"Predictions\")\n",
    "\n",
    "    plt.tight_layout()\n",
    "    plt.show()\n",
    "\n",
    "\n"
   ]
  },
  {
   "cell_type": "markdown",
   "metadata": {},
   "source": [
    "Training and saving the model"
   ]
  },
  {
   "cell_type": "code",
   "execution_count": 25,
   "metadata": {},
   "outputs": [
    {
     "name": "stdout",
     "output_type": "stream",
     "text": [
      "Saved trained model to C:/Users/hp/OneDrive/Desktop/Faria/Random Forest Regressor.joblib\n",
      "Random Forest Regressor Performance:\n",
      "Training: MSE = 1463697721.0324416, R2 = 0.9999759428387125, MAE = 234.94600998029063\n",
      "Testing: MSE = 9810932772.506529, R2 = 0.9998106084623137, MAE = 1180.5250371569173\n",
      "\n"
     ]
    },
    {
     "data": {
      "image/png": "[encoded data removed]",
      "text/plain": [
       "<Figure size 1200x600 with 2 Axes>"
      ]
     },
     "metadata": {},
     "output_type": "display_data"
    },
    {
     "name": "stdout",
     "output_type": "stream",
     "text": [
      "Saved trained model to C:/Users/hp/OneDrive/Desktop/Faria/Gradient Boosting Regressor.joblib\n",
      "Gradient Boosting Regressor Performance:\n",
      "Training: MSE = 12873200926.617706, R2 = 0.9997884176039029, MAE = 18494.657891513845\n",
      "Testing: MSE = 21061368159.433456, R2 = 0.9995934285766722, MAE = 19671.048082315254\n",
      "\n"
     ]
    },
    {
     "data": {
      "image/png": "[encoded data removed]",
      "text/plain": [
       "<Figure size 1200x600 with 2 Axes>"
      ]
     },
     "metadata": {},
     "output_type": "display_data"
    },
    {
     "name": "stdout",
     "output_type": "stream",
     "text": [
      "Saved trained model to C:/Users/hp/OneDrive/Desktop/Faria/Support Vector Machine Regressor.joblib\n",
      "Support Vector Machine Regressor Performance:\n",
      "Training: MSE = 60917683479898.68, R2 = -0.0012357850104196544, MAE = 278798.7817068398\n",
      "Testing: MSE = 51879690672348.55, R2 = -0.0014923778354609674, MAE = 282646.1612919383\n",
      "\n"
     ]
    },
    {
     "data": {
      "image/png": "[encoded data removed]",
      "text/plain": [
       "<Figure size 1200x600 with 2 Axes>"
      ]
     },
     "metadata": {},
     "output_type": "display_data"
    }
   ],
   "source": [
    "model_save_path = \"C:/Users/hp/OneDrive/Desktop/Faria/\"  # Specify your directory\n",
    "\n",
    "evaluate_model(rf_pipeline, \"Random Forest Regressor\", model_save_path)\n",
    "evaluate_model(gb_pipeline, \"Gradient Boosting Regressor\", model_save_path)\n",
    "evaluate_model(svm_pipeline, \"Support Vector Machine Regressor\", model_save_path)\n",
    "\n",
    "\n",
    "\n"
   ]
  },
  {
   "cell_type": "markdown",
   "metadata": {},
   "source": [
    "## Model Performance Summary\n",
    "\n",
    "### Random Forest Regressor\n",
    "- **MSE**: 53,112,742,873.27\n",
    "  - A relatively low value, indicating good model performance.\n",
    "- **R²**: 0.9991\n",
    "  - Very close to 1, suggesting that the model explains almost all the variability in the data.\n",
    "- **MAE**: 4,370.50\n",
    "  - Represents the average error in the same units as the target variable.\n",
    "\n",
    "### Gradient Boosting Regressor\n",
    "- **MSE**: 52,866,246,818.12\n",
    "  - Similar to Random Forest, indicating good performance.\n",
    "- **R²**: 0.9991\n",
    "  - Again, very close to 1, showing excellent model performance.\n",
    "- **MAE**: 22,835.66\n",
    "  - Higher than Random Forest, suggesting a larger average error.\n",
    "\n",
    "### Support Vector Machine Regressor\n",
    "- **MSE**: 59,402,600,059,740.38\n",
    "  - Significantly higher than the other models, indicating poor performance.\n",
    "- **R²**: -0.0011\n",
    "  - A negative R² value implies that the model is worse than a simple horizontal line mean model.\n",
    "- **MAE**: 258,165.45\n",
    "  - Extremely high compared to the other models, suggesting very large average errors.\n",
    "\n",
    "Based on these results, both the Random Forest and Gradient Boosting models have performed very well on this dataset, with R² values extremely close to 1 and relatively low MSE and MAE values. However, the Random Forest Regressor has a slight edge over Gradient Boosting due to its lower MAE, indicating, on average, more accurate predictions.\n",
    "\n",
    "On the other hand, the Support Vector Machine Regressor has performed poorly compared to the other two, with a very high MSE, a negative R² value, and a much higher MAE, suggesting it's not a suitable model for this particular dataset.\n",
    "\n",
    "In conclusion, the Random Forest Regressor is the best performing model for this dataset, closely followed by the Gradient Boosting Regressor.\n"
   ]
  },
  {
   "cell_type": "markdown",
   "metadata": {},
   "source": [
    "## Making predicitin "
   ]
  },
  {
   "cell_type": "code",
   "execution_count": 26,
   "metadata": {},
   "outputs": [
    {
     "data": {
      "text/html": [
       "<div>\n",
       "<style scoped>\n",
       "    .dataframe tbody tr th:only-of-type {\n",
       "        vertical-align: middle;\n",
       "    }\n",
       "\n",
       "    .dataframe tbody tr th {\n",
       "        vertical-align: top;\n",
       "    }\n",
       "\n",
       "    .dataframe thead th {\n",
       "        text-align: right;\n",
       "    }\n",
       "</style>\n",
       "<table border=\"1\" class=\"dataframe\">\n",
       "  <thead>\n",
       "    <tr style=\"text-align: right;\">\n",
       "      <th></th>\n",
       "      <th>Tech Spend USD</th>\n",
       "      <th>Sales Revenue USD</th>\n",
       "      <th>Social</th>\n",
       "      <th>Employees</th>\n",
       "      <th>Vertical</th>\n",
       "      <th>City</th>\n",
       "      <th>State</th>\n",
       "      <th>Country</th>\n",
       "    </tr>\n",
       "  </thead>\n",
       "  <tbody>\n",
       "    <tr>\n",
       "      <th>0</th>\n",
       "      <td>6640</td>\n",
       "      <td>7.893385e+06</td>\n",
       "      <td>2371.371077</td>\n",
       "      <td>91</td>\n",
       "      <td>Technology And Computing</td>\n",
       "      <td>Seattle</td>\n",
       "      <td>WA</td>\n",
       "      <td>US</td>\n",
       "    </tr>\n",
       "    <tr>\n",
       "      <th>1</th>\n",
       "      <td>12587</td>\n",
       "      <td>3.250102e+06</td>\n",
       "      <td>1332.224445</td>\n",
       "      <td>66</td>\n",
       "      <td>Education</td>\n",
       "      <td>Austin</td>\n",
       "      <td>CA</td>\n",
       "      <td>US</td>\n",
       "    </tr>\n",
       "    <tr>\n",
       "      <th>2</th>\n",
       "      <td>9090</td>\n",
       "      <td>3.161389e+06</td>\n",
       "      <td>3358.535406</td>\n",
       "      <td>123</td>\n",
       "      <td>Healthcare</td>\n",
       "      <td>Austin</td>\n",
       "      <td>NY</td>\n",
       "      <td>US</td>\n",
       "    </tr>\n",
       "    <tr>\n",
       "      <th>3</th>\n",
       "      <td>17491</td>\n",
       "      <td>7.609974e+06</td>\n",
       "      <td>4318.557027</td>\n",
       "      <td>146</td>\n",
       "      <td>Finance</td>\n",
       "      <td>San Mateo</td>\n",
       "      <td>WA</td>\n",
       "      <td>US</td>\n",
       "    </tr>\n",
       "    <tr>\n",
       "      <th>4</th>\n",
       "      <td>11494</td>\n",
       "      <td>8.205985e+06</td>\n",
       "      <td>2507.799550</td>\n",
       "      <td>87</td>\n",
       "      <td>Healthcare</td>\n",
       "      <td>Austin</td>\n",
       "      <td>NY</td>\n",
       "      <td>US</td>\n",
       "    </tr>\n",
       "  </tbody>\n",
       "</table>\n",
       "</div>"
      ],
      "text/plain": [
       "   Tech Spend USD  Sales Revenue USD       Social  Employees  \\\n",
       "0            6640       7.893385e+06  2371.371077         91   \n",
       "1           12587       3.250102e+06  1332.224445         66   \n",
       "2            9090       3.161389e+06  3358.535406        123   \n",
       "3           17491       7.609974e+06  4318.557027        146   \n",
       "4           11494       8.205985e+06  2507.799550         87   \n",
       "\n",
       "                   Vertical       City State Country  \n",
       "0  Technology And Computing    Seattle    WA      US  \n",
       "1                 Education     Austin    CA      US  \n",
       "2                Healthcare     Austin    NY      US  \n",
       "3                   Finance  San Mateo    WA      US  \n",
       "4                Healthcare     Austin    NY      US  "
      ]
     },
     "execution_count": 26,
     "metadata": {},
     "output_type": "execute_result"
    }
   ],
   "source": [
    "import pandas as pd\n",
    "import random\n",
    "\n",
    "\n",
    "\n",
    "# Function to generate random unseen data\n",
    "def generate_unseen_data(num_samples):\n",
    "    unseen_data = pd.DataFrame({\n",
    "        'Tech Spend USD': [random.randint(5000, 20000) for _ in range(num_samples)],\n",
    "        'Sales Revenue USD': [random.uniform(1e6, 1e7) for _ in range(num_samples)],\n",
    "        'Social': [random.uniform(1000, 5000) for _ in range(num_samples)],\n",
    "        'Employees': [random.randint(50, 200) for _ in range(num_samples)],\n",
    "        'Vertical': random.choices(['Technology And Computing', 'Healthcare', 'Finance', 'Education'], k=num_samples),\n",
    "        'City': random.choices(['San Mateo', 'New York', 'Austin', 'Seattle'], k=num_samples),\n",
    "        'State': random.choices(['CA', 'NY', 'TX', 'WA'], k=num_samples),\n",
    "        'Country': ['US' for _ in range(num_samples)]\n",
    "    })\n",
    "    return unseen_data\n",
    "\n",
    "# Function to make predictions on unseen data using a given pipeline\n",
    "def predict_unseen_data(pipeline, unseen_data):\n",
    "    predictions = pipeline.predict(unseen_data)\n",
    "    return predictions\n",
    "\n",
    "# Evaluate each model\n",
    "#evaluate_model(rf_pipeline, \"Random Forest Regressor\")\n",
    "\n",
    "# Generate some random unseen data\n",
    "unseen_data = generate_unseen_data(5) # Change 5 to the number of samples you want\n",
    "unseen_data\n",
    "\n",
    "\n"
   ]
  },
  {
   "cell_type": "code",
   "execution_count": 27,
   "metadata": {},
   "outputs": [
    {
     "name": "stdout",
     "output_type": "stream",
     "text": [
      "Unseen Data Predictions (Random Forest):\n",
      "[158601.5178  32321.0571  31306.8445 135086.2984 138693.7165]\n"
     ]
    }
   ],
   "source": [
    "# Predict using the trained Random Forest pipeline\n",
    "unseen_predictions = predict_unseen_data(rf_pipeline, unseen_data)\n",
    "\n",
    "# Output the predictions\n",
    "print(\"Unseen Data Predictions (Random Forest):\")\n",
    "print(unseen_predictions)"
   ]
  },
  {
   "cell_type": "markdown",
   "metadata": {},
   "source": [
    "## Conclusion\n",
    "In this project, our primary objective was to accurately predict ROI (Return on Investment) by leveraging essential features from the provided dataset. We adopted a systematic approach, which encompassed data cleaning, feature selection, and machine learning model training and evaluation. Initially, we focused on data cleaning, tackling issues like duplicates and missing values. We employed effective strategies for handling missing data and identified and managed outliers through visualization techniques. Feature selection played a pivotal role in refining the model's predictive capabilities, ensuring that we utilized the most relevant features. Data preprocessing was vital to prepare the dataset for machine learning, involving the standardization of numerical features and one-hot encoding for categorical ones. Ultimately, after training three distinct machine learning models, including Random Forest, Support Vector Machine (SVM), and XGBoost, we found that Random Forest consistently outperformed the others. It exhibited exceptional performance on both the training and testing data, demonstrating its ability to accurately predict ROI. In contrast, SVM and XGBoost, while capable of making predictions, did not match the level of performance achieved by Random Forest. Consequently, Random Forest emerged as the preferred choice for this specific dataset, offering valuable insights for future applications in this domain."
   ]
  },
  {
   "cell_type": "code",
   "execution_count": null,
   "metadata": {},
   "outputs": [],
   "source": []
  }
 ],
 "metadata": {
  "kernelspec": {
   "display_name": "Python 3",
   "language": "python",
   "name": "python3"
  },
  "language_info": {
   "codemirror_mode": {
    "name": "ipython",
    "version": 3
   },
   "file_extension": ".py",
   "mimetype": "text/x-python",
   "name": "python",
   "nbconvert_exporter": "python",
   "pygments_lexer": "ipython3",
   "version": "3.11.7"
  }
 },
 "nbformat": 4,
 "nbformat_minor": 2
}
